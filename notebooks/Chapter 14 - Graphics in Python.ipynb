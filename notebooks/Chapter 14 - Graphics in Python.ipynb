{
  "nbformat": 4,
  "nbformat_minor": 0,
  "metadata": {
    "kernelspec": {
      "display_name": "Python 3.6",
      "language": "python",
      "name": "python36"
    },
    "language_info": {
      "codemirror_mode": {
        "name": "ipython",
        "version": 3
      },
      "file_extension": ".py",
      "mimetype": "text/x-python",
      "name": "python",
      "nbconvert_exporter": "python",
      "pygments_lexer": "ipython3",
      "version": "3.6.0"
    },
    "colab": {
      "name": "Copy of Chapter 14 - Graphics in Python.ipynb のコピー",
      "provenance": [],
      "toc_visible": true
    }
  },
  "cells": [
    {
      "cell_type": "markdown",
      "metadata": {
        "collapsed": true,
        "id": "gupDhsRKjTPH"
      },
      "source": [
        "Python for Bioinformatics\n",
        "-----------------------------\n",
        "\n",
        "![title](https://s3.amazonaws.com/py4bio/tapabiosmall.png)\n",
        "\n",
        "This Jupyter notebook is intented to be used alongside the book [Python for Bioinformatics](http://py3.us/)\n",
        "\n"
      ]
    },
    {
      "cell_type": "markdown",
      "metadata": {
        "id": "FJeTPdSKjTPI"
      },
      "source": [
        "**Note:** Before opening the file, this file should be accesible from this Jupyter notebook. In order to do so, the following commands will download these files from Github and extract them into a directory called samples."
      ]
    },
    {
      "cell_type": "markdown",
      "metadata": {
        "id": "iE8g9U3kjTPI"
      },
      "source": [
        "Chapter 14: Graphics in Python\n",
        "-----------------------------"
      ]
    },
    {
      "cell_type": "markdown",
      "metadata": {
        "id": "osQpfZRxjTPJ"
      },
      "source": [
        "**USING BOKEH**"
      ]
    },
    {
      "cell_type": "code",
      "metadata": {
        "id": "DmjLnxJujTPJ"
      },
      "source": [
        "!curl https://raw.githubusercontent.com/Serulab/Py4Bio/master/samples/samples.tar.bz2 -o samples.tar.bz2\n",
        "!mkdir samples\n",
        "!tar xvfj samples.tar.bz2 -C samples"
      ],
      "execution_count": null,
      "outputs": []
    },
    {
      "cell_type": "code",
      "metadata": {
        "id": "8uQOy77stAcJ"
      },
      "source": [
        "import bokeh"
      ],
      "execution_count": null,
      "outputs": []
    },
    {
      "cell_type": "code",
      "metadata": {
        "id": "HU8paiPAuBYZ"
      },
      "source": [
        "import IPython"
      ],
      "execution_count": null,
      "outputs": []
    },
    {
      "cell_type": "markdown",
      "metadata": {
        "id": "RSDZwhkwjTPN"
      },
      "source": [
        "**Listing 14.1:** basiccircle.py: A circle made with Bokeh"
      ]
    },
    {
      "cell_type": "code",
      "metadata": {
        "id": "OkTBLJhRjTPN"
      },
      "source": [
        "from bokeh.plotting import figure, output_file, show\n",
        "\n",
        "p = figure(width=400, height=400)\n",
        "p.circle(2, 3, radius=.5, alpha=0.5)\n",
        "output_file(\"out.html\")\n",
        "show(p)"
      ],
      "execution_count": null,
      "outputs": []
    },
    {
      "cell_type": "code",
      "metadata": {
        "id": "-4kXuy2quC9P"
      },
      "source": [
        "IPython.display.HTML(filename='out.html')"
      ],
      "execution_count": null,
      "outputs": []
    },
    {
      "cell_type": "markdown",
      "metadata": {
        "id": "sVL9pjbajTPQ"
      },
      "source": [
        "**Listing 14.2:** fourcircles.py: 4 circles made with Bokeh"
      ]
    },
    {
      "cell_type": "code",
      "metadata": {
        "id": "HjtxwumFulUc"
      },
      "source": [
        ""
      ],
      "execution_count": null,
      "outputs": []
    },
    {
      "cell_type": "code",
      "metadata": {
        "id": "W6rL8jpkjTPQ"
      },
      "source": [
        "from bokeh.plotting import figure, output_file, show\n",
        "\n",
        "p = figure(width=500, height=500)\n",
        "x = [1, 1, 2, 2]\n",
        "y = [1, 2, 1, 2]\n",
        "p.circle(x, y, radius=.35, alpha=0.5, color='red')\n",
        "output_file(\"out.html\")\n",
        "show(p)"
      ],
      "execution_count": null,
      "outputs": []
    },
    {
      "cell_type": "markdown",
      "metadata": {
        "id": "R4gt-7G2jTPS"
      },
      "source": [
        "**Listing 14.3:** plot1.py: A minimal plot"
      ]
    },
    {
      "cell_type": "code",
      "metadata": {
        "id": "GXc1N3BqjTPT"
      },
      "source": [
        "from bokeh.plotting import figure, output_file, show\n",
        "\n",
        "x = [1, 2, 3, 4, 5, 6, 7, 8]\n",
        "y = [.7, 1.4, 2.1, 3, 3.85, 4.55, 5.8, 6.45]\n",
        "\n",
        "p = figure(title='Mean wt increased vs. time',\n",
        "           x_axis_label='Time in days',\n",
        "           y_axis_label='% Mean WT increased')\n",
        "p.circle(x, y, legend='Subject 1', size=10)\n",
        "output_file('test.html')\n",
        "show(p)"
      ],
      "execution_count": null,
      "outputs": []
    },
    {
      "cell_type": "markdown",
      "metadata": {
        "id": "h9mclB0WjTPV"
      },
      "source": [
        "**Listing 14.4:** plot2.py: Two data series plot"
      ]
    },
    {
      "cell_type": "code",
      "metadata": {
        "id": "zGKiJvgZjTPV"
      },
      "source": [
        "\n",
        "from bokeh.plotting import figure, output_file, show\n",
        "\n",
        "x = [1, 2, 3, 4, 5, 6, 7, 8]\n",
        "y = [.7, 1.4, 2.1, 3, 3.85, 4.55, 5.8, 6.45]\n",
        "z = [.5, 1.1, 1.9, 2.5, 3.1, 3.9, 4.85, 5.2]\n",
        "\n",
        "p = figure(title='Mean wt increased vs. time',\n",
        "           x_axis_label='Time in days',\n",
        "           y_axis_label='% Mean WT increased')\n",
        "p.circle(x, y, legend='Subject 1', size=10)\n",
        "p.circle(x, z, legend='Subject 2', size=10, line_color='red',\n",
        "         fill_color='white')\n",
        "p.legend.location = 'top_left'\n",
        "output_file('test.html')\n",
        "show(p)"
      ],
      "execution_count": null,
      "outputs": []
    },
    {
      "cell_type": "markdown",
      "metadata": {
        "id": "WRlv-EjojTPY"
      },
      "source": [
        "**Listing 14.5:** fishpc.py: Scatter plot"
      ]
    },
    {
      "cell_type": "code",
      "metadata": {
        "id": "ti8O2Jz0jTPY"
      },
      "source": [
        "from bokeh.charts import Scatter, output_file, show\n",
        "from pandas import DataFrame\n",
        "\n",
        "df = DataFrame.from_csv('samples/fishdata.csv')\n",
        "\n",
        "scatter = Scatter(df, x='PC1', y='PC2', color='feeds',\n",
        "        marker='species', title=\n",
        "        'Metabolic variations based on 1H NMR profiling of fishes',\n",
        "        xlabel='Principal Component 1: 35.8%',\n",
        "        ylabel='Principal Component 2: 15.1%')\n",
        "scatter.legend.background_fill_alpha = 0.3\n",
        "output_file('scatter.html')\n",
        "show(scatter)"
      ],
      "execution_count": null,
      "outputs": []
    },
    {
      "cell_type": "markdown",
      "metadata": {
        "id": "qWvuk1pPjTPa"
      },
      "source": [
        "**Listing 14.6:** heatmap.py: Plot a gene expression file"
      ]
    },
    {
      "cell_type": "code",
      "metadata": {
        "id": "1xMu76_PjTPb"
      },
      "source": [
        "from bokeh.charts import HeatMap, bins, output_file, show\n",
        "import pandas as pd\n",
        "\n",
        "DATA_FILE = 'samples/GSM188012.CEL'\n",
        "dtype = {'x': int, 'y': int, 'lux': float}\n",
        "dataset = pd.read_csv(DATA_FILE, sep='\\t', dtype=dtype)\n",
        "hm = HeatMap(dataset, x=bins('x'), y=bins('y'), values='lux',\n",
        "             title='Expression', stat='mean')\n",
        "output_file(\"heatmap7.html\", title=\"heatmap.py example\")\n",
        "show(hm)"
      ],
      "execution_count": null,
      "outputs": []
    },
    {
      "cell_type": "markdown",
      "metadata": {
        "id": "sp8E3vFojTPd"
      },
      "source": [
        "**Listing 14.7:** chord.py: A Chord diagram"
      ]
    },
    {
      "cell_type": "code",
      "metadata": {
        "id": "GIlR-qX1jTPd"
      },
      "source": [
        "from bokeh.charts import output_file, Chord\n",
        "from bokeh.io import show\n",
        "import pandas as pd\n",
        "data = pd.read_csv('samples/test3.csv')\n",
        "chord_from_df = Chord(data, source='name_x', target='name_y',\n",
        "                      value='value')\n",
        "output_file('chord.html')\n",
        "show(chord_from_df)"
      ],
      "execution_count": null,
      "outputs": []
    },
    {
      "cell_type": "code",
      "metadata": {
        "id": "UtA-uRqqxTsE"
      },
      "source": [
        "from bokeh.io import output_file, show\n",
        "from bokeh.models import ColumnDataSource\n",
        "from bokeh.plotting import figure\n",
        "from bokeh.sampledata.commits import data\n",
        "from bokeh.transform import jitter\n",
        "\n",
        "output_file(\"bars.html\")\n",
        "\n",
        "DAYS = ['Sun', 'Sat', 'Fri', 'Thu', 'Wed', 'Tue', 'Mon']\n",
        "\n",
        "source = ColumnDataSource(data)\n",
        "\n",
        "p = figure(plot_width=800, plot_height=300, y_range=DAYS, x_axis_type='datetime',\n",
        "           title=\"Commits by Time of Day (US/Central) 2012—2016\")\n",
        "\n",
        "p.circle(x='time', y=jitter('day', width=0.6, range=p.y_range),  source=source, alpha=0.3)\n",
        "\n",
        "p.xaxis[0].formatter.days = ['%Hh']\n",
        "p.x_range.range_padding = 0\n",
        "p.ygrid.grid_line_color = None\n",
        "\n",
        "show(p)"
      ],
      "execution_count": null,
      "outputs": []
    },
    {
      "cell_type": "code",
      "metadata": {
        "id": "WEOgRKjfx3yb"
      },
      "source": [
        "#from bokeh.charts import \n",
        "from bokeh.models import ColumnDataSource, Label, LabelSet, Range1d\n",
        "from bokeh.io import output_file, show\n",
        "from bokeh.plotting import figure\n",
        "from pandas import DataFrame\n",
        "import pandas\n",
        "\n",
        "df = pandas.read_csv('samples/fishdata.csv')\n",
        "source = ColumnDataSource(df)\n",
        "\n",
        "# p = figure( y_range=DAYS, x_axis_type='datetime',\n",
        "#           title=\"Commits by Time of Day (US/Central) 2012—2016\")\n",
        "TOOLS=\"hover,crosshair,pan,wheel_zoom,zoom_in,zoom_out,box_zoom,undo,redo,reset,tap,save,box_select,poly_select,lasso_select,\"\n",
        "\n",
        "#p = figure(tools=TOOLS)\n",
        "\n",
        "p = figure(title = \"Iris Morphology\",tools=TOOLS)\n",
        "x=df['PC1']\n",
        "y=df['PC2']\n",
        "#radii=df['index']\n",
        "\n",
        "# p.scatter(x, y,\n",
        "#            fill_alpha=0.6, marker=markers,\n",
        "#           line_color=None)\n",
        "p.scatter(\"PC1\", \"PC2\",color=\"feeds\",marker='feeds',\n",
        "           #marker=\"species\",color='feeds',\n",
        "           legend_label='feeds',\n",
        "           source=df)\n",
        "#p.xaxis[0].axis_label = 'Weight (lbs)'\n",
        "#p.yaxis[0].axis_label = 'Height (in)'\n",
        "#p.legend.location = \"top_left\"\n",
        "\n",
        "labels = LabelSet(x='PC1',y='PC2', text='feeds', level='glyph',\n",
        "               x_offset=5, y_offset=5,\n",
        "               source=source, render_mode='canvas')\n",
        "\n",
        "p.add_layout(labels)\n",
        "\n",
        "#p.scatter(\"PC1\", \"PC2\",  source=df)\n",
        "\n",
        "#p.scatter(source)\n",
        "\n",
        "# scatter = Scatter( color='feeds',\n",
        "#         marker='species', title=\n",
        "#         'Metabolic variations based on 1H NMR profiling of fishes',\n",
        "#         xlabel='Principal Component 1: 35.8%',\n",
        "#         ylabel='Principal Component 2: 15.1%')\n",
        "#scatter.legend.background_fill_alpha = 0.3\n",
        "output_file('scatter.html')\n",
        "show(p)"
      ],
      "execution_count": null,
      "outputs": []
    },
    {
      "cell_type": "code",
      "metadata": {
        "id": "xXs0mcZT0J95"
      },
      "source": [
        "import numpy as np\n",
        "\n",
        "from bokeh.plotting import figure, output_file, show\n",
        "\n",
        "N = 4000\n",
        "x = np.random.random(size=N) * 100\n",
        "y = np.random.random(size=N) * 100\n",
        "print(x)\n",
        "radii = np.random.random(size=N) * 1.5\n",
        "colors = [\n",
        "    \"#%02x%02x%02x\" % (int(r), int(g), 150) for r, g in zip(50+2*x, 30+2*y)\n",
        "]\n",
        "\n",
        "TOOLS=\"hover,crosshair,pan,wheel_zoom,zoom_in,zoom_out,box_zoom,undo,redo,reset,tap,save,box_select,poly_select,lasso_select,\"\n",
        "\n",
        "p = figure(tools=TOOLS)\n",
        "\n",
        "p.scatter(x, y, radius=radii,\n",
        "          fill_color=colors, fill_alpha=0.6,\n",
        "          line_color=None)\n",
        "\n",
        "output_file(\"color_scatter.html\", title=\"color_scatter.py example\")\n",
        "\n",
        "show(p)  # open a browser\n"
      ],
      "execution_count": null,
      "outputs": []
    },
    {
      "cell_type": "code",
      "metadata": {
        "id": "LdXje_2g3s7W"
      },
      "source": [
        "from bokeh.plotting import figure, output_file, show\n",
        "from bokeh.sampledata.iris import flowers\n",
        "from bokeh.transform import factor_cmap, factor_mark\n",
        "\n",
        "SPECIES = ['setosa', 'versicolor', 'virginica']\n",
        "MARKERS = ['hex', 'circle_x', 'triangle']\n",
        "\n",
        "p = figure(title = \"Iris Morphology\")\n",
        "p.xaxis.axis_label = 'Petal Length'\n",
        "p.yaxis.axis_label = 'Sepal Width'\n",
        "\n",
        "p.scatter(\"petal_length\", \"sepal_width\", source=flowers, legend_field=\"species\", fill_alpha=0.4, size=12,\n",
        "          marker=factor_mark('species', MARKERS, SPECIES),\n",
        "          color=factor_cmap('species', 'Category10_3', SPECIES))\n",
        "output_file(\"scatter_factor.html\", title=\"color_scatter.py example\")\n",
        "show(p)"
      ],
      "execution_count": null,
      "outputs": []
    },
    {
      "cell_type": "code",
      "metadata": {
        "id": "daQAtYdE4e1y"
      },
      "source": [
        "from bokeh.io import output_notebook\n",
        "output_notebook()"
      ],
      "execution_count": null,
      "outputs": []
    },
    {
      "cell_type": "code",
      "metadata": {
        "id": "xoGimeqfZ354"
      },
      "source": [
        "# scatter plot with color and legend\n",
        "from bokeh.models import ColumnDataSource, Label, LabelSet, Range1d\n",
        "from bokeh.io import output_file, show\n",
        "from bokeh.plotting import figure\n",
        "from bokeh.transform import factor_cmap, factor_mark\n",
        "from pandas import DataFrame\n",
        "import pandas\n",
        "\n",
        "df = pandas.read_csv('samples/fishdata.csv')\n",
        "source = ColumnDataSource(df)\n",
        "MARKERS = ['hex', 'circle_x', 'triangle','square']\n",
        "\n",
        "# p = figure( y_range=DAYS, x_axis_type='datetime',\n",
        "#           title=\"Commits by Time of Day (US/Central) 2012—2016\")\n",
        "TOOLS=\"hover,crosshair,pan,wheel_zoom,zoom_in,zoom_out,box_zoom,undo,redo,reset,tap,save,box_select,poly_select,lasso_select,\"\n",
        "\n",
        "#p = figure(tools=TOOLS)\n",
        "\n",
        "p = figure(title = \"Iris Morphology\",tools=TOOLS)\n",
        "x=df['PC1']\n",
        "y=df['PC2']\n",
        "feeds=set(df['feeds'])\n",
        "print(feeds)\n",
        "print(set(df['species']))\n",
        "#radii=df['index']\n",
        "\n",
        "# p.scatter(x, y,\n",
        "#            fill_alpha=0.6, marker=markers,\n",
        "#           line_color=None)\n",
        "p.scatter(\"PC1\", \"PC2\",legend_field=\"species\",\n",
        "           #marker=\"species\",color='feeds',\n",
        "           marker=factor_mark('species', MARKERS, list(set(df['species']))),\n",
        "           color=factor_cmap('feeds', 'Category10_4', list(feeds)),\n",
        "           source=df)\n",
        "#p.xaxis[0].axis_label = 'Weight (lbs)'\n",
        "#p.yaxis[0].axis_label = 'Height (in)'\n",
        "p.legend.location = \"top_left\"\n",
        "\n",
        "# labels = LabelSet(x='PC1',y='PC2', text='feeds', level='glyph',\n",
        "#                x_offset=5, y_offset=5,\n",
        "#                source=source, render_mode='canvas')\n",
        "\n",
        "# p.add_layout(labels)\n",
        "\n",
        "#p.scatter(\"PC1\", \"PC2\",  source=df)\n",
        "\n",
        "#p.scatter(source)\n",
        "\n",
        "# scatter = Scatter( color='feeds',\n",
        "#         marker='species', title=\n",
        "#         'Metabolic variations based on 1H NMR profiling of fishes',\n",
        "#         xlabel='Principal Component 1: 35.8%',\n",
        "#         ylabel='Principal Component 2: 15.1%')\n",
        "#scatter.legend.background_fill_alpha = 0.3\n",
        "output_file('scatter.html')\n",
        "show(p)"
      ],
      "execution_count": null,
      "outputs": []
    },
    {
      "cell_type": "code",
      "metadata": {
        "id": "4JvlYOjOfVdU"
      },
      "source": [
        "# scatter plot with color and legend\n",
        "from bokeh.models import ColumnDataSource, Label, LabelSet, Range1d\n",
        "from bokeh.io import output_file, show\n",
        "from bokeh.plotting import figure\n",
        "from bokeh.transform import factor_cmap, factor_mark\n",
        "from pandas import DataFrame\n",
        "import pandas\n",
        "\n",
        "df = pandas.read_csv('samples/fishdata.csv')\n",
        " \n",
        "MARKERS = ['hex', 'circle_x', 'triangle','square']\n",
        "TOOLS=\"hover,crosshair,pan,wheel_zoom,zoom_in,zoom_out,box_zoom,undo,redo,reset,tap,save,box_select,poly_select,lasso_select,\"\n",
        "p = figure(title = 'Metabolic variations based on 1H NMR profiling of fishes',tools=TOOLS)\n",
        "p.xaxis.axis_label = 'Principal Component 1: 35.8%'\n",
        "p.yaxis.axis_label = 'Principal Component 2: 15.1%'\n",
        "p.scatter(\"PC1\", \"PC2\",legend_field=\"species\",\n",
        "           marker=factor_mark('species', MARKERS, list(set(df['species']))),\n",
        "           color=factor_cmap('feeds', 'Category10_4', list(set(df['feeds']))),\n",
        "           source=df)\n",
        "p.legend.location = \"top_left\"\n",
        "p.legend.background_fill_alpha = 0.3\n",
        "\n",
        "output_file('scatter.html')\n",
        "show(p)"
      ],
      "execution_count": null,
      "outputs": []
    },
    {
      "cell_type": "code",
      "metadata": {
        "id": "hTUeGRFIhdIA"
      },
      "source": [
        "# heat map with color and legend\n",
        "from bokeh.models import ColumnDataSource, Label, LabelSet, Range1d\n",
        "from bokeh.io import output_file, show\n",
        "from bokeh.plotting import figure\n",
        "from bokeh.transform import factor_cmap, factor_mark\n",
        "from pandas import DataFrame\n",
        "import pandas as pd\n",
        "from bokeh.io import output_file, show\n",
        "from bokeh.models import (BasicTicker, ColorBar, ColumnDataSource,\n",
        "                          LinearColorMapper, PrintfTickFormatter,)\n",
        "from bokeh.plotting import figure\n",
        "from bokeh.sampledata.unemployment1948 import data\n",
        "from bokeh.transform import transform\n",
        "\n",
        "DATA_FILE = 'samples/GSM188012.CEL'\n",
        "dtype = {'x': int, 'y': int, 'lux': float}\n",
        "dataset = pd.read_csv(DATA_FILE, sep='\\t', dtype=dtype)\n",
        "source = ColumnDataSource(dataset)\n",
        "colors = [\"#f0f3fe\", \"#cadbed\", \"#a6c9df\", \"#79add2\", \"#4682b8\",\"#205297\"]\n",
        "#mapper = LinearColorMapper(palette=colors, low=dataset.lux.min(), high=dataset.lux.max())\n",
        "mapper = LinearColorMapper(palette=colors, low=161, high=2452.2)\n",
        "\n",
        "print(dataset.lux.min())\n",
        "print(dataset.lux.max())\n",
        "p = figure( title='Expression')\n",
        "\n",
        "p.rect(x=\"x\", y=\"y\", width=1, height=1, source=source,\n",
        "       line_color=None, fill_color=transform('lux', mapper))\n",
        "output_file(\"heatmap7.html\", title=\"heatmap.py example\")\n",
        "show(p)\n",
        "#hm = HeatMap(dataset, x=bins('x'), y=bins('y'), values='lux',\n",
        "#             title='Expression', stat='mean')\n",
        "#output_file(\"heatmap7.html\", title=\"heatmap.py example\")\n",
        "#show(hm)"
      ],
      "execution_count": null,
      "outputs": []
    },
    {
      "cell_type": "code",
      "metadata": {
        "id": "p76DxViZh6Qu"
      },
      "source": [
        "import pandas as pd\n",
        "\n",
        "from bokeh.io import output_file, show\n",
        "from bokeh.models import (BasicTicker, ColorBar, ColumnDataSource,\n",
        "                          LinearColorMapper, PrintfTickFormatter,)\n",
        "from bokeh.plotting import figure\n",
        "from bokeh.sampledata.unemployment1948 import data\n",
        "from bokeh.transform import transform\n",
        "\n",
        "output_file(\"unemploymemt.html\")\n",
        "\n",
        "data.Year = data.Year.astype(str)\n",
        "data = data.set_index('Year')\n",
        "data.drop('Annual', axis=1, inplace=True)\n",
        "data.columns.name = 'Month'\n",
        "\n",
        "# reshape to 1D array or rates with a month and year for each row.\n",
        "df = pd.DataFrame(data.stack(), columns=['rate']).reset_index()\n",
        "\n",
        "source = ColumnDataSource(df)\n",
        "\n",
        "# this is the colormap from the original NYTimes plot\n",
        "colors = [\"#75968f\", \"#a5bab7\", \"#c9d9d3\", \"#e2e2e2\", \"#dfccce\", \"#ddb7b1\", \"#cc7878\", \"#933b41\", \"#550b1d\"]\n",
        "mapper = LinearColorMapper(palette=colors, low=df.rate.min(), high=df.rate.max())\n",
        "\n",
        "p = figure(plot_width=800, plot_height=300, title=\"US Unemployment 1948—2016\",\n",
        "           x_range=list(data.index), y_range=list(reversed(data.columns)),\n",
        "           toolbar_location=None, tools=\"\", x_axis_location=\"above\")\n",
        "\n",
        "p.rect(x=\"Year\", y=\"Month\", width=1, height=1, source=source,\n",
        "       line_color=None, fill_color=transform('rate', mapper))\n",
        "\n",
        "color_bar = ColorBar(color_mapper=mapper, location=(0, 0),\n",
        "                     ticker=BasicTicker(desired_num_ticks=len(colors)),\n",
        "                     formatter=PrintfTickFormatter(format=\"%d%%\"))\n",
        "\n",
        "p.add_layout(color_bar, 'right')\n",
        "\n",
        "p.axis.axis_line_color = None\n",
        "p.axis.major_tick_line_color = None\n",
        "p.axis.major_label_text_font_size = \"7px\"\n",
        "p.axis.major_label_standoff = 0\n",
        "p.xaxis.major_label_orientation = 1.0\n",
        "\n",
        "show(p)"
      ],
      "execution_count": null,
      "outputs": []
    },
    {
      "cell_type": "code",
      "metadata": {
        "id": "w38s0mHF3YB-"
      },
      "source": [
        "import bokeh\n",
        "bokeh.sampledata.download()"
      ],
      "execution_count": null,
      "outputs": []
    },
    {
      "cell_type": "code",
      "metadata": {
        "id": "-OZndccz3Lt5"
      },
      "source": [
        "import holoviews as hv\n",
        "from holoviews import opts, dim\n",
        "from bokeh.sampledata.airport_routes import routes, airports\n",
        "\n",
        "hv.extension('bokeh')\n",
        "# Count the routes between Airports\n",
        "route_counts = routes.groupby(['SourceID', 'DestinationID']).Stops.count().reset_index()\n",
        "nodes = hv.Dataset(airports, 'AirportID', 'City')\n",
        "chord = hv.Chord((route_counts, nodes), ['SourceID', 'DestinationID'], ['Stops'])\n",
        "\n",
        "# Select the 20 busiest airports\n",
        "busiest = list(routes.groupby('SourceID').count().sort_values('Stops').iloc[-20:].index.values)\n",
        "busiest_airports = chord.select(AirportID=busiest, selection_mode='nodes')\n",
        "busiest_airports.opts(\n",
        "    opts.Chord(cmap='Category20', edge_color=dim('SourceID').str(), \n",
        "               height=800, labels='City', node_color=dim('AirportID').str(), width=800))"
      ],
      "execution_count": null,
      "outputs": []
    },
    {
      "cell_type": "code",
      "metadata": {
        "id": "goy38w8y310M"
      },
      "source": [
        "import holoviews as hv\n",
        "from holoviews import opts, dim\n",
        "from bokeh.sampledata.airport_routes import routes, airports\n",
        "from bokeh.io import show, output_file\n",
        "import pandas as pd\n",
        "from bokeh.models import (BasicTicker, ColorBar, ColumnDataSource,\n",
        "                          LinearColorMapper, PrintfTickFormatter,)\n",
        "data = pd.read_csv('samples/test3.csv')\n",
        "print(data.head(3))\n",
        "#source = ColumnDataSource(data)\n",
        "#chord_from_df = Chord(data, source='name_x', target='name_y',\n",
        "#                      value='value')\n",
        "#output_file('chord.html')\n",
        "#show(chord_from_df)\n",
        "hv.extension('bokeh')\n",
        "# Count the routes between Airports\n",
        "#route_counts = routes.groupby(['SourceID', 'DestinationID']).Stops.count().reset_index()\n",
        "#nodes = hv.Dataset(airports, 'AirportID', 'City')\n",
        "#chord = hv.Chord((route_counts, nodes), ['SourceID', 'DestinationID'], ['Stops'])\n",
        "#print(nodes)\n",
        "#print(route_counts)\n",
        "#print(source)\n",
        "#print(data)\n",
        "\n",
        "\n",
        "# Select the 20 busiest airports\n",
        "#busiest = list(routes.groupby('SourceID').count().sort_values('Stops').iloc[-20:].index.values)\n",
        "#busiest_airports = chord.select(AirportID=busiest, selection_mode='nodes')\n",
        "#busiest_airports.opts(\n",
        "#    opts.Chord(cmap='Category20', edge_color=dim('SourceID').str(), \n",
        "#               height=800, labels='City', node_color=dim('AirportID').str(), width=800))\n",
        "\n",
        "links = pd.DataFrame(data)\n",
        "nodes = hv.Dataset(pd.DataFrame(data['name_y']), 'index')\n",
        "print(nodes.data.head())\n",
        "#\n",
        "chord = hv.Chord(links)\n",
        "#chord = hv.Chord((links, nodes)).select(value=(5, None))\n",
        "chord.opts(\n",
        "    opts.Chord(cmap='Category20',edge_color=dim('name_x').str(),labels='name_x',\n",
        "    width=800,height=800))"
      ],
      "execution_count": null,
      "outputs": []
    }
  ]
}